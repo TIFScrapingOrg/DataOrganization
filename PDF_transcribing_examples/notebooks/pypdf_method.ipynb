{
 "cells": [
  {
   "cell_type": "code",
   "execution_count": 2,
   "metadata": {},
   "outputs": [],
   "source": [
    "# Import necessary modules\n",
    "import pypdf"
   ]
  },
  {
   "cell_type": "code",
   "execution_count": 7,
   "metadata": {},
   "outputs": [],
   "source": [
    "pdf_path = \"../T_003_43rdDamenAR98.pdf\"\n",
    "reader = pypdf.PdfReader(pdf_path)\n",
    "\n",
    "with open(\"pypdf_text.txt\", 'a', encoding=\"utf-8\") as output:\n",
    "\tnumber_of_pages = len(reader.pages)\n",
    "\n",
    "\t# Loop through all pages\n",
    "\tfor i in range(number_of_pages):\n",
    "\t\tpage = reader.pages[i]\n",
    "\t\toutput.write(page.extract_text())\n"
   ]
  }
 ],
 "metadata": {
  "kernelspec": {
   "display_name": "Python 3",
   "language": "python",
   "name": "python3"
  },
  "language_info": {
   "codemirror_mode": {
    "name": "ipython",
    "version": 3
   },
   "file_extension": ".py",
   "mimetype": "text/x-python",
   "name": "python",
   "nbconvert_exporter": "python",
   "pygments_lexer": "ipython3",
   "version": "3.11.6"
  }
 },
 "nbformat": 4,
 "nbformat_minor": 2
}
